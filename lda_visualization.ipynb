{
 "cells": [
  {
   "cell_type": "markdown",
   "metadata": {},
   "source": [
    "## LDA visualization of gensim citations\n",
    "\n",
    "### A visualization of citations of \"Software Framework for Topic Modelling with Large Corpora\" represented as LDA probability distribution towards the selected number of topics.\n",
    "\n",
    "### Note the configurable parameters to play with:\n",
    "\n",
    "#### Preprocessing:\n",
    "\n",
    "* Text filter: Whether to filter out some part of texts, or not\n",
    "* Filter parameters (for filtering of HTML content) based on: \n",
    "    * minimal length of a valid text sentence, \n",
    "    * minimal length of a valid text line\n",
    "* Text preprocess method - currently gensim's preprocess_text() - works the best only for English\n",
    "\n",
    "#### LDA:\n",
    "\n",
    "* Number of topics\n",
    "* Number of passes over the input corpus\n",
    "* Many others, so far left on defaults: https://radimrehurek.com/gensim/models/ldamodel.html\n",
    "\n",
    "#### Tf-Idf:\n",
    "\n",
    "* Corpus representation: 1. BoW counts of words, or 2. Tf-Idf weights\n",
    "* Representative term set filtering: to consider only a given percentile of top-important terms according to tf-idf weights for each doc\n",
    "\n",
    "#### Visualization:\n",
    "\n",
    "* Docs representation: currently over a distance matrix\n",
    "    * Distance method for distance matrix: correlation, cosine, euclidean, ... choose from https://docs.scipy.org/doc/scipy/reference/spatial.distance.html\n",
    "* Dimensionality reduction: currently MDS from distance matrix\n",
    "\n",
    "#### Topic representation in visualization:\n",
    "\n",
    "* Number of most important words for topic\n",
    "* For each word from a set of each topic, maximum number of occurrences of this word in other clusters representations\n",
    "    * Can clarify the meaning of the topic in contrast to other inferred topics\n"
   ]
  },
  {
   "cell_type": "markdown",
   "metadata": {},
   "source": [
    "## Tool functions"
   ]
  },
  {
   "cell_type": "code",
   "execution_count": 1,
   "metadata": {},
   "outputs": [],
   "source": [
    "import os\n",
    "from gensim.corpora.dictionary import Dictionary\n",
    "from gensim.models import LdaModel\n",
    "from gensim.parsing.preprocessing import preprocess_string\n",
    "from gensim.models import TfidfModel\n",
    "\n",
    "import numpy as np"
   ]
  },
  {
   "cell_type": "markdown",
   "metadata": {},
   "source": [
    "### Data load:\n",
    "\n",
    "1. using filter for short sentences (to get rid of HTML tags content) + gensim preprocess_text()\n",
    "2. plaintext + gensim preprocess_text()\n"
   ]
  },
  {
   "cell_type": "code",
   "execution_count": 2,
   "metadata": {},
   "outputs": [],
   "source": [
    "html_content_dir = \"data/fulltexts_html\"\n",
    "pdf_content_dir = \"data/fulltexts_pdf\""
   ]
  },
  {
   "cell_type": "code",
   "execution_count": 3,
   "metadata": {},
   "outputs": [],
   "source": [
    "def filter_sentences_from_text(text_lines, min_line_len=20, min_sen_len=15):\n",
    "    fulltext = \" \".join([line for line in list(text_lines) if len([l for l in line.split(\" \") \n",
    "                                                                   if len(l) > 0]) > min_line_len])\n",
    "    sens = filter(lambda sen: len(sen) >= min_sen_len, fulltext.split(\".\"))\n",
    "    return \". \".join(sens)"
   ]
  },
  {
   "cell_type": "code",
   "execution_count": 4,
   "metadata": {},
   "outputs": [
    {
     "name": "stdout",
     "output_type": "stream",
     "text": [
      "[nltk_data] Downloading package words to /home/michal/nltk_data...\n",
      "[nltk_data]   Package words is already up-to-date!\n"
     ]
    }
   ],
   "source": [
    "import os\n",
    "\n",
    "from gensim.parsing.preprocessing import (\n",
    "    preprocess_string,\n",
    "    remove_stopwords,\n",
    "    strip_multiple_whitespaces,\n",
    "    strip_numeric,\n",
    "    strip_punctuation,\n",
    "    strip_short,\n",
    "    strip_tags,\n",
    ")    \n",
    "import nltk\n",
    "\n",
    "\n",
    "custom_filters = [\n",
    "    lambda x: x.lower(),\n",
    "    strip_tags,\n",
    "    strip_punctuation,\n",
    "    strip_multiple_whitespaces,\n",
    "    strip_numeric,\n",
    "    remove_stopwords,\n",
    "    strip_short,\n",
    "]\n",
    "\n",
    "nltk.download('words')\n",
    "english_words = set(word.lower() for word in nltk.corpus.words.words())\n",
    "\n",
    "def get_texts_from_dir(texts_dir, filter_sen=False):\n",
    "    txt_files = os.listdir(texts_dir)\n",
    "    txt_files = [os.path.join(texts_dir, txt) for txt in txt_files]\n",
    "    texts = dict()\n",
    "    for txt_f in list(filter(lambda path: path.endswith(\".txt\"), txt_files)):\n",
    "        try:\n",
    "            if filter_sen:\n",
    "                # custom filtering based on sentences length:\n",
    "                text = filter_sentences_from_text(open(txt_f, \"r\").readlines())\n",
    "            else:\n",
    "                # no filtering:\n",
    "                text = open(txt_f, \"r\").read()\n",
    "            text = open(txt_f, \"r\").read()\n",
    "            texts[os.path.basename(txt_f)] = [\n",
    "                word for word in preprocess_string(text, custom_filters)\n",
    "                if word in english_words\n",
    "            ]\n",
    "        except UnicodeDecodeError:\n",
    "            print(\"Utf-8 decode error on %s\" % txt_f)\n",
    "            continue\n",
    "    return texts"
   ]
  },
  {
   "cell_type": "code",
   "execution_count": 5,
   "metadata": {},
   "outputs": [],
   "source": [
    "def read_texts_no_preproc(texts_dir):\n",
    "    txt_files = os.listdir(texts_dir)\n",
    "    txt_files = [os.path.join(texts_dir, txt) for txt in txt_files]\n",
    "    for txt_f in list(filter(lambda path: path.endswith(\".txt\"), txt_files)):\n",
    "        yield open(txt_f, \"r\").readlines()"
   ]
  },
  {
   "cell_type": "markdown",
   "metadata": {},
   "source": [
    "### 1: using filter for short sentences"
   ]
  },
  {
   "cell_type": "code",
   "execution_count": 6,
   "metadata": {
    "scrolled": false
   },
   "outputs": [
    {
     "data": {
      "text/plain": [
       "['\\ufeffToggle navigation\\xa0\\xa0\\xa0IDEALS \\n',\n",
       " '    • Login \\n',\n",
       " '    • \\n',\n",
       " '    • Search IDEALSThis Collection \\n',\n",
       " '    • query \\n',\n",
       " '      Advanced Search \\n',\n",
       " '    • \\n',\n",
       " ' \\n',\n",
       " '\\n',\n",
       " '\\n',\n",
       " ' \\n',\n",
       " 'Entity-relation search: context pattern driven relation ranking\\n',\n",
       " 'Welcome to the IDEALS Repository\\n',\n",
       " '\\n',\n",
       " 'JavaScript is disabled for your browser. Some features of this site may not work without it.\\n',\n",
       " '\\n',\n",
       " '\\n',\n",
       " '\\n',\n",
       " 'Browse\\n',\n",
       " 'IDEALS\\n']"
      ]
     },
     "execution_count": 6,
     "metadata": {},
     "output_type": "execute_result"
    }
   ],
   "source": [
    "#: comparison of a text before and after filtering:\n",
    "texts = read_texts_no_preproc(html_content_dir)\n",
    "text = list(texts)[42]\n",
    "text[:20]"
   ]
  },
  {
   "cell_type": "code",
   "execution_count": 7,
   "metadata": {
    "scrolled": true
   },
   "outputs": [
    {
     "data": {
      "text/plain": [
       "['A traditional page link-based search system is not adequate for users intending to query data efficiently.  For instance, emergent phenomena reveal that some entity-based search engines, such as EntityRank, directly return answers (target entities) to users instead of web pages.  Most of the time, however, compared to searching for interested entities, users more often focus on relationships among entities.  To our knowledge, there is only one web search system that automatically extracts relations from massive unstructured corpora.  This system is referred to as OpenIE, which indeed brings us one step closer to an entity relation-based system.  Nevertheless, its system extracts only direct relations between a pair of entities and ranks simply by occurrence frequency.  The monotone pattern extraction, adopted in their relation phrase extraction model, provides high quality entity relations but also fail to return many potential true relations in the corpus, which has been explained in Section 4. 2 and affects recall significantly shown in 5.  In addition, it is difficult for users to retrieve their interested and true relations from massive relation candidate set without a qualified ranking model.  Consequently, there still exists a gap between the system and users for retrieving entity relations efficiently by a simple query.  To assist users to find their interested relations efficiently, this thesis specifically focuses on the core challenges of the ranking model.  Naturally, the quality of each relation candidate is largely relevant to its context.  Thus, to evaluate various conditions, a novel idea of context patterns driven ranking has been introduced.  After evaluating our online prototype on millions of PubMed medical abstracts, we show that our system performs better than the OpenIE system on both precision and recall.  Note that this rich and novel system is the product of a collaborative team effort comprised of the following members: Zequn Zhang, Jiarui Xu, and Varun Berry, and supervised by Professor Kevin Chang']"
      ]
     },
     "execution_count": 7,
     "metadata": {},
     "output_type": "execute_result"
    }
   ],
   "source": [
    "# same one using filtering:\n",
    "text_f = filter_sentences_from_text(text)\n",
    "text_f.split(\"\\n\")[:10]"
   ]
  },
  {
   "cell_type": "code",
   "execution_count": 8,
   "metadata": {},
   "outputs": [
    {
     "data": {
      "text/plain": [
       "['S187704281631655X.txt',\n",
       " '3800a765-abs.txt',\n",
       " '978-3-319-93034-3_10.txt',\n",
       " '5679915.txt',\n",
       " 'hal-01480773.txt',\n",
       " 'ALFNLP.txt',\n",
       " '1711.txt',\n",
       " '1803.txt',\n",
       " '978-3-319-22183-0_27.txt',\n",
       " '1801.txt']"
      ]
     },
     "execution_count": 8,
     "metadata": {},
     "output_type": "execute_result"
    }
   ],
   "source": [
    "htmls_preproc = get_texts_from_dir(html_content_dir, filter_sen=True)\n",
    "list(htmls_preproc.keys())[-10:]"
   ]
  },
  {
   "cell_type": "markdown",
   "metadata": {},
   "source": [
    "### 2: without text filter"
   ]
  },
  {
   "cell_type": "code",
   "execution_count": 9,
   "metadata": {
    "scrolled": true
   },
   "outputs": [
    {
     "data": {
      "text/plain": [
       "['Zhang et al. - 2017 - Targeted Advertising Based on Browsing History.txt',\n",
       " 'Xu et al. - 2017 - AnswerBot automated generation of answer summary .txt',\n",
       " 'Ribón - A Framework for Semantic Similarity Measures to en.txt',\n",
       " 'Graus et al. - 2013 - yourHistory–Semantic linking for a personalized ti.txt',\n",
       " 'Ali and LaPaugh - 2013 - Enabling Author-Centric Ranking of Web Content..txt',\n",
       " 'Gordeev - 2016 - Automatic detection of verbal aggression for Russi.txt',\n",
       " 'Ver Steeg and Galstyan - 2013 - Information-theoretic measures of influence based .txt',\n",
       " 'Epasto et al. - 2017 - Bicriteria distributed submodular maximization in .txt',\n",
       " 'Cao et al. - 2018 - Searching for Truth in a Database of Statistics.txt',\n",
       " 'Catizone et al. - 2012 - LIE Leadership, Influence and Expertise..txt']"
      ]
     },
     "execution_count": 9,
     "metadata": {},
     "output_type": "execute_result"
    }
   ],
   "source": [
    "pdfs_preproc = get_texts_from_dir(pdf_content_dir, filter_sen=False)\n",
    "list(pdfs_preproc.keys())[-10:]"
   ]
  },
  {
   "cell_type": "code",
   "execution_count": 10,
   "metadata": {},
   "outputs": [],
   "source": [
    "# merge with htmls\n",
    "merged_texts_preproc = {**pdfs_preproc}"
   ]
  },
  {
   "cell_type": "code",
   "execution_count": 11,
   "metadata": {},
   "outputs": [
    {
     "data": {
      "text/plain": [
       "754"
      ]
     },
     "execution_count": 11,
     "metadata": {},
     "output_type": "execute_result"
    }
   ],
   "source": [
    "texts = [t for t in merged_texts_preproc.values() if len(t) > 0]\n",
    "texts_links = merged_texts_preproc.keys()\n",
    "len(texts)"
   ]
  },
  {
   "cell_type": "markdown",
   "metadata": {},
   "source": [
    "### tf-idf integration\n",
    "\n",
    "Two approaches:\n",
    "\n",
    "1. use idf weights instead of BoW frequencies\n",
    "2. filter out given percentile of least important words from Docs' representation\n",
    "3. combined"
   ]
  },
  {
   "cell_type": "code",
   "execution_count": 12,
   "metadata": {},
   "outputs": [],
   "source": [
    "dictionary = Dictionary(texts)\n",
    "corpus = [dictionary.doc2bow(text) for text in texts]\n",
    "tfidf = TfidfModel(corpus)"
   ]
  },
  {
   "cell_type": "markdown",
   "metadata": {},
   "source": [
    "### 1. use idf weights for top-given percentile of terms"
   ]
  },
  {
   "cell_type": "code",
   "execution_count": 13,
   "metadata": {},
   "outputs": [],
   "source": [
    "def terms_for_doc(doc_id):\n",
    "    return tfidf[corpus[doc_id]]"
   ]
  },
  {
   "cell_type": "code",
   "execution_count": 14,
   "metadata": {},
   "outputs": [],
   "source": [
    "def top_terms_idf_for_doc(doc_id, percentile):\n",
    "    doc_terms_ordered = sorted(terms_for_doc(doc_id), key=lambda term: term[1],  reverse=True)\n",
    "    return [term[0] for term in doc_terms_ordered[:int(len(doc_terms_ordered)*percentile)]]"
   ]
  },
  {
   "cell_type": "code",
   "execution_count": 15,
   "metadata": {},
   "outputs": [],
   "source": [
    "def name_terms_in_tuples(doc_corpus):\n",
    "    return [(dictionary.get(tup[0]), tup[1]) for tup in doc_corpus]"
   ]
  },
  {
   "cell_type": "code",
   "execution_count": 16,
   "metadata": {},
   "outputs": [],
   "source": [
    "def top_terms_idf_for_doc(doc_id, percentile):\n",
    "    doc_terms_ordered = sorted(terms_for_doc(doc_id), key=lambda term: term[1], reverse=True)\n",
    "    return [(doc_terms_ordered[i][0], doc_terms_ordered[i][1]) \n",
    "            for i in range(int(len(doc_terms_ordered)*percentile))]"
   ]
  },
  {
   "cell_type": "code",
   "execution_count": 17,
   "metadata": {},
   "outputs": [],
   "source": [
    "def term_tfidf_for_doc(doc_idx):\n",
    "    return [(tfidf_term_tuple[0], tfidf_term_tuple[1]) \n",
    "            for tfidf_term_tuple in tfidf_corpus[doc_idx]]"
   ]
  },
  {
   "cell_type": "code",
   "execution_count": 18,
   "metadata": {},
   "outputs": [],
   "source": [
    "tfidf_corpus1 = [top_terms_idf_for_doc(doc_i, 0.18) for doc_i in range(len(texts))]"
   ]
  },
  {
   "cell_type": "code",
   "execution_count": 19,
   "metadata": {
    "scrolled": true
   },
   "outputs": [
    {
     "data": {
      "text/plain": [
       "[(395, 0.8100748966009056),\n",
       " (167, 0.3988720504597434),\n",
       " (514, 0.2500924209574005),\n",
       " (134, 0.13777225950655736),\n",
       " (529, 0.10336837201530495),\n",
       " (124, 0.09178279631047316),\n",
       " (604, 0.07934668648674739),\n",
       " (125, 0.07249263373208426),\n",
       " (49, 0.06575902668688782),\n",
       " (538, 0.06336493100830388)]"
      ]
     },
     "execution_count": 19,
     "metadata": {},
     "output_type": "execute_result"
    }
   ],
   "source": [
    "tfidf_corpus1[0][:10]"
   ]
  },
  {
   "cell_type": "markdown",
   "metadata": {},
   "source": [
    "### 2. use term frequencies for top-given percentile of terms"
   ]
  },
  {
   "cell_type": "code",
   "execution_count": 20,
   "metadata": {},
   "outputs": [],
   "source": [
    "def top_terms_freqs_for_doc(doc_id, percentile):\n",
    "    doc_terms_idf = dict(terms_for_doc(doc_id))\n",
    "    doc_terms_count = corpus[doc_id]\n",
    "    doc_terms_count_ordered = sorted(doc_terms_count, \n",
    "                                     key=lambda term_count: doc_terms_idf[term_count[0]], reverse=True)\n",
    "    return [(doc_terms_count_ordered[i][0], doc_terms_count_ordered[i][1])\n",
    "            for i in range(int(len(doc_terms_count_ordered)*percentile))]"
   ]
  },
  {
   "cell_type": "code",
   "execution_count": 21,
   "metadata": {
    "scrolled": true
   },
   "outputs": [
    {
     "data": {
      "text/plain": [
       "[(395, 284),\n",
       " (167, 114),\n",
       " (514, 92),\n",
       " (134, 48),\n",
       " (529, 136),\n",
       " (124, 26),\n",
       " (604, 54),\n",
       " (125, 19),\n",
       " (49, 12),\n",
       " (538, 32)]"
      ]
     },
     "execution_count": 21,
     "metadata": {},
     "output_type": "execute_result"
    }
   ],
   "source": [
    "tfidf_corpus2 = [top_terms_freqs_for_doc(doc_i, 0.1) for doc_i in range(len(texts))]\n",
    "tfidf_corpus2[0][:10]"
   ]
  },
  {
   "cell_type": "markdown",
   "metadata": {},
   "source": [
    "## LDA computation\n",
    "\n",
    "Train LDA on a given type of corpus"
   ]
  },
  {
   "cell_type": "code",
   "execution_count": 22,
   "metadata": {},
   "outputs": [],
   "source": [
    "def lda_from_texts(given_corpus, num_topics, passes):\n",
    "    lda = LdaModel(given_corpus, num_topics=num_topics, alpha='auto', eval_every=5, passes=passes)\n",
    "    return lda"
   ]
  },
  {
   "cell_type": "code",
   "execution_count": 23,
   "metadata": {},
   "outputs": [],
   "source": [
    "def topic_distro_for_text(text):\n",
    "    return lda.get_document_topics(dictionary.doc2bow(text), minimum_probability=0)"
   ]
  },
  {
   "cell_type": "code",
   "execution_count": 24,
   "metadata": {},
   "outputs": [],
   "source": [
    "def terms_for_topic(topic_id, top_terms=10):\n",
    "    topic_top_terms = lda.get_topic_terms(topic_id, topn=top_terms)\n",
    "    return [dictionary.get(term[0]) for term in topic_top_terms]"
   ]
  },
  {
   "cell_type": "code",
   "execution_count": 99,
   "metadata": {
    "scrolled": true
   },
   "outputs": [],
   "source": [
    "lda_num_topics = 14\n",
    "num_passes = 10\n",
    "\n",
    "# TODO: choose between corpus, tfidf_corpus1, tfidf_corpus2:\n",
    "lda = lda_from_texts(tfidf_corpus2, num_topics=lda_num_topics, passes=num_passes)"
   ]
  },
  {
   "cell_type": "markdown",
   "metadata": {
    "scrolled": true
   },
   "source": [
    "## Documents representation\n",
    "\n",
    "Each doc is represented as a probability distribution towards LDA topics "
   ]
  },
  {
   "cell_type": "code",
   "execution_count": 100,
   "metadata": {},
   "outputs": [],
   "source": [
    "topic_distros = np.array([topic_distro_for_text(text) for text in texts[:-1]])\n",
    "topic_distros = topic_distros[:, :, 1]"
   ]
  },
  {
   "cell_type": "code",
   "execution_count": 101,
   "metadata": {},
   "outputs": [
    {
     "data": {
      "text/plain": [
       "(753, 14)"
      ]
     },
     "execution_count": 101,
     "metadata": {},
     "output_type": "execute_result"
    }
   ],
   "source": [
    "topic_distros.shape"
   ]
  },
  {
   "cell_type": "markdown",
   "metadata": {},
   "source": [
    "# Visualization projections: approaches"
   ]
  },
  {
   "cell_type": "markdown",
   "metadata": {},
   "source": [
    "## 1. Get a projection of docs so that the docs are close to their major topic\n",
    "\n",
    "Doc distance to a topic must be proportional to it's probability of belonging to it\n",
    "\n",
    "Does not consider relative distance of the documents, which seems to me as having no interpretation value - if it does, it is again equal to the second approach\n",
    "\n",
    "... thus is not implemented\n",
    "\n",
    "Yet, other projection methods surely deserve a consideration\n",
    "\n"
   ]
  },
  {
   "cell_type": "markdown",
   "metadata": {},
   "source": [
    "## 2. Get a projection of topic according to their relative similarity\n",
    "\n",
    "Relative similarity is a correlation of documents' belonging to it\n",
    "\n",
    "Topics centers are documents with one-hot distribution of probabilities."
   ]
  },
  {
   "cell_type": "code",
   "execution_count": 102,
   "metadata": {},
   "outputs": [],
   "source": [
    "base_topic_docs_distros = np.identity(lda_num_topics)"
   ]
  },
  {
   "cell_type": "code",
   "execution_count": 103,
   "metadata": {},
   "outputs": [],
   "source": [
    "topic_distros = np.append(topic_distros, base_topic_docs_distros) \\\n",
    "                  .reshape((len(topic_distros)+lda_num_topics, lda_num_topics))"
   ]
  },
  {
   "cell_type": "code",
   "execution_count": 104,
   "metadata": {},
   "outputs": [
    {
     "data": {
      "text/plain": [
       "(767, 14)"
      ]
     },
     "execution_count": 104,
     "metadata": {},
     "output_type": "execute_result"
    }
   ],
   "source": [
    "topic_distros.shape"
   ]
  },
  {
   "cell_type": "code",
   "execution_count": 105,
   "metadata": {},
   "outputs": [
    {
     "data": {
      "text/plain": [
       "array([[0.        , 1.18597404, 1.34624707, ..., 1.12453187, 1.03549451,\n",
       "        1.08428344],\n",
       "       [1.18597404, 0.        , 1.08827522, ..., 1.16280078, 1.13365294,\n",
       "        1.01787397],\n",
       "       [1.34624707, 1.08827522, 0.        , ..., 1.00681629, 1.20451789,\n",
       "        0.1657933 ],\n",
       "       ...,\n",
       "       [1.12453187, 1.16280078, 1.00681629, ..., 0.        , 1.07692308,\n",
       "        1.07692308],\n",
       "       [1.03549451, 1.13365294, 1.20451789, ..., 1.07692308, 0.        ,\n",
       "        1.07692308],\n",
       "       [1.08428344, 1.01787397, 0.1657933 , ..., 1.07692308, 1.07692308,\n",
       "        0.        ]])"
      ]
     },
     "execution_count": 105,
     "metadata": {},
     "output_type": "execute_result"
    }
   ],
   "source": [
    "# distance matrix by selected metric\n",
    "from scipy.spatial.distance import pdist, squareform\n",
    "\n",
    "dists = squareform(pdist(topic_distros, metric=\"correlation\"))\n",
    "dists"
   ]
  },
  {
   "cell_type": "code",
   "execution_count": 106,
   "metadata": {},
   "outputs": [
    {
     "data": {
      "text/plain": [
       "(767, 767)"
      ]
     },
     "execution_count": 106,
     "metadata": {},
     "output_type": "execute_result"
    }
   ],
   "source": [
    "dists.shape"
   ]
  },
  {
   "cell_type": "code",
   "execution_count": 107,
   "metadata": {},
   "outputs": [
    {
     "data": {
      "text/plain": [
       "MDS(dissimilarity='precomputed', eps=0.001, max_iter=300, metric=True,\n",
       "  n_components=2, n_init=4, n_jobs=None, random_state=None, verbose=0)"
      ]
     },
     "execution_count": 107,
     "metadata": {},
     "output_type": "execute_result"
    }
   ],
   "source": [
    "# projection to 2D using MDS\n",
    "\n",
    "from sklearn import manifold\n",
    "\n",
    "adist = dists\n",
    "\n",
    "amax = np.amax(adist)\n",
    "adist /= amax\n",
    "\n",
    "mds = manifold.MDS(n_components=2, dissimilarity=\"precomputed\")\n",
    "results = mds.fit(adist)\n",
    "\n",
    "coords = results.embedding_\n",
    "results"
   ]
  },
  {
   "cell_type": "code",
   "execution_count": 108,
   "metadata": {},
   "outputs": [],
   "source": [
    "# matplotlib visualization:\n",
    "\n",
    "# import matplotlib.pyplot as plt\n",
    "# from matplotlib.pyplot import figure\n",
    "\n",
    "\n",
    "# plt.subplots_adjust(bottom = 0.1)\n",
    "# plt.scatter(\n",
    "#     coords[:, 0], coords[:, 1], marker = 'o'\n",
    "#     )\n",
    "# for label, x, y in zip([\"\"]*len(coords), coords[:, 0], coords[:, 1]):\n",
    "#     plt.annotate(\n",
    "#         label,\n",
    "#         xy = (x, y), xytext = (-20, 20),\n",
    "#         textcoords = 'offset points', ha = 'right', va = 'bottom',\n",
    "#         bbox = dict(boxstyle = 'round,pad=0.5', fc = 'yellow', alpha = 0.5),\n",
    "#         arrowprops = dict(arrowstyle = '->', connectionstyle = 'arc3,rad=0'))\n",
    "    \n",
    "# # figure(num=None, figsize=(10, 10), dpi=80, facecolor='w', edgecolor='k')\n",
    "# plt.figsize = (100, 100)\n",
    "# plt.grid()\n",
    "# plt.show()"
   ]
  },
  {
   "cell_type": "code",
   "execution_count": 109,
   "metadata": {},
   "outputs": [],
   "source": [
    "# Selective labeling of topics by only the unique words among topics\n",
    "\n",
    "word_occurrence_bound = int(lda.num_topics / 5)\n",
    "top_terms_per_topic = 30\n",
    "max_output_words = 10\n",
    "\n",
    "from functools import reduce\n",
    "\n",
    "all_topics_w = [terms_for_topic(i, top_terms=top_terms_per_topic) for i in range(lda_num_topics)]\n",
    "all_words = reduce(lambda x, y: set(x) | set(y), all_topics_w)\n",
    "intersect_words = list(filter(lambda w: sum([w in t_words for t_words in all_topics_w]) > word_occurrence_bound, \n",
    "                              all_words))\n",
    "unique_topics_w = [[w for w in t_words if w not in intersect_words] for t_words in all_topics_w]\n",
    "unique_topics_w = [twords[:max_output_words] for twords in all_topics_w if len(twords) > max_output_words]"
   ]
  },
  {
   "cell_type": "code",
   "execution_count": 110,
   "metadata": {},
   "outputs": [],
   "source": [
    "import plotly\n",
    "plotly.tools.set_credentials_file(username='stmichal', api_key='OXox9Rf8jzEHqUsNPqwn')"
   ]
  },
  {
   "cell_type": "code",
   "execution_count": 111,
   "metadata": {},
   "outputs": [
    {
     "data": {
      "text/html": [
       "<iframe id=\"igraph\" scrolling=\"no\" style=\"border:none;\" seamless=\"seamless\" src=\"https://plot.ly/~stmichal/103.embed\" height=\"1000px\" width=\"1000px\"></iframe>"
      ],
      "text/plain": [
       "<plotly.tools.PlotlyDisplay object>"
      ]
     },
     "execution_count": 111,
     "metadata": {},
     "output_type": "execute_result"
    }
   ],
   "source": [
    "import plotly.plotly as py\n",
    "import plotly.graph_objs as go\n",
    "\n",
    "docs_len = len(texts)\n",
    "\n",
    "# Documents trace\n",
    "trace_docs = go.Scatter(\n",
    "    x = coords[:docs_len, 0],\n",
    "    y = coords[:docs_len, 1],\n",
    "    mode = 'markers',\n",
    "    marker = dict(color = 'rgba(0, 0, 255, .5)', size = 5),\n",
    "    text = list(texts_links)\n",
    ")\n",
    "# Bases (topics documents) trace\n",
    "trace_bases = go.Scatter(\n",
    "    x = coords[docs_len:, 0],\n",
    "    y = coords[docs_len:, 1],\n",
    "    mode = 'markers',\n",
    "    marker = dict(color = 'rgba(255, 0, 122, .2)', size = 60),\n",
    "    text = [\"T %s: %s\" % (i, unique_topics_w[i]) for i in range(lda_num_topics)]\n",
    ")\n",
    "\n",
    "data = [trace_docs, trace_bases]\n",
    "\n",
    "# label = 'MDS over LDA %s topics. tfidf for top 0.5 terms as frequencies - TODO: check' % lda.num_topics\n",
    "\n",
    "label = 'TODO: fill appropriately: MDS over LDA X topics. tfidf:counts for top X terms as frequencies.'\n",
    "\n",
    "\n",
    "# Plot and embed in ipython notebook!\n",
    "layout = dict(title=label,  \n",
    "              font=dict(size=12),\n",
    "              showlegend=True,\n",
    "              width=1000,\n",
    "              height=1000,\n",
    "              margin=dict(l=40, r=40, b=85, t=100),\n",
    "              hovermode='closest',\n",
    "              plot_bgcolor='rgb(256,256,256)'          \n",
    "              )\n",
    "py.iplot(dict(data=data, layout=layout), filename=label) "
   ]
  },
  {
   "cell_type": "code",
   "execution_count": null,
   "metadata": {},
   "outputs": [],
   "source": []
  }
 ],
 "metadata": {
  "kernelspec": {
   "display_name": "Python 3",
   "language": "python",
   "name": "python3"
  },
  "language_info": {
   "codemirror_mode": {
    "name": "ipython",
    "version": 3
   },
   "file_extension": ".py",
   "mimetype": "text/x-python",
   "name": "python",
   "nbconvert_exporter": "python",
   "pygments_lexer": "ipython3",
   "version": "3.6.5"
  }
 },
 "nbformat": 4,
 "nbformat_minor": 2
}
